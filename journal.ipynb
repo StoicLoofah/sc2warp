{
 "cells": [
  {
   "cell_type": "markdown",
   "metadata": {},
   "source": [
    "# Journal\n",
    "\n",
    "## 1/15/20\n",
    "* Come up with a project name\n",
    "    * play on words with \"warp in\" and \"wrap up\"\n",
    "* Start a Jupyter notebook\n",
    "    * Setup using homebrew, pyenv, python3.7, jupyterlab\n",
    "\n",
    "## 12/9/19\n",
    "* Read https://medium.com/dair-ai/deep-learning-for-nlp-an-overview-of-recent-trends-d0d8f40a776d \n",
    "    * Convolutional Neural Networks\n",
    "    * Recurrent Neural Networks\n",
    "    * Why Reinforcement Learning in NLG?\n",
    "* Contact Emmanuel and Mehdi\n",
    "* This task is more like Machine Translation within NLG\n",
    "    * Take replay data and turn it into English\n",
    "* http://www.wildml.com/2016/01/attention-and-memory-in-deep-learning-and-nlp/ \n",
    "    * Solid read with practical links on building things\n",
    "* http://www-anw.cs.umass.edu/~barto/courses/cs687/williams92simple.pdf\n",
    "    * Reinforcement learning for machine translation and image captioning\n",
    "\n",
    "## 11/11/19\n",
    "* Came up with the idea to do NLG for StarCraft game summaries\n",
    "* Read several introductions to NLGs\n",
    "* Went through the tutorial for https://github.com/simplenlg/simplenlg \n",
    "    * Basically just a library for composing sentences based on particles\n",
    "    * Somewhat manual but also clever for cleaning up word order, conjugations, punctuation, etc.\n",
    "    * Good reminder that there are challenges independent of translation here"
   ]
  }
 ],
 "metadata": {
  "kernelspec": {
   "display_name": "Python 3",
   "language": "python",
   "name": "python3"
  },
  "language_info": {
   "codemirror_mode": {
    "name": "ipython",
    "version": 3
   },
   "file_extension": ".py",
   "mimetype": "text/x-python",
   "name": "python",
   "nbconvert_exporter": "python",
   "pygments_lexer": "ipython3",
   "version": "3.7.6"
  }
 },
 "nbformat": 4,
 "nbformat_minor": 4
}
