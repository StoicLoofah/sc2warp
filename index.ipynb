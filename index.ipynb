{
 "cells": [
  {
   "cell_type": "markdown",
   "metadata": {},
   "source": [
    "# sc2warp - NLG for StarCraft 2 replay summaries\n",
    "\n",
    "## TODO\n",
    "* Continue to gather data\n",
    "* Generate SC2 commentary using Markov Chains\n",
    "* Review email from Emmanuel\n",
    "* Import data so far\n",
    "\n",
    "## Upcoming\n",
    "* Create summaries of Tic-Tac-Toe games\n",
    "* Read https://www.jair.org/index.php/jair/article/view/11173/26378  \n",
    "* Investigate sc2reader plugin for selection\n",
    "\n",
    "## Challenges\n",
    "* Generating proper English sentences\n",
    "* Getting a sufficient dataset for game summaries\n",
    "* Correlating game summaries with the data\n",
    "\n",
    "## Data\n",
    "Open up VODs, turn on commentary, find https://www.youtube.com/api/timedtext in the Network tab\n",
    "\n",
    "* HomeStory Cup XIX - https://www.youtube.com/playlist?list=PLvzMN2Aff-nnndHYDRcvPub9rjcNEit-Q \n",
    "* WESG 2018 - https://www.youtube.com/playlist?list=PLFbPVX8eo5p2geVeaMht1Mn5k5-V7vpcs \n",
    "* 2018 Hangzhou - https://www.youtube.com/playlist?list=PLfWB5v8kDQAubcGW2P3fV0639VVPCI4NN \n",
    "* WESG 2017.- https://www.youtube.com/playlist?list=PLFbPVX8eo5p15ItuRXSiSclb61flPB54_ \n",
    "* FalconPaladin - https://www.youtube.com/channel/UCB73iJpB6hhq99IOM4aqX_Q/featured "
   ]
  }
 ],
 "metadata": {
  "kernelspec": {
   "display_name": "Python 3",
   "language": "python",
   "name": "python3"
  },
  "language_info": {
   "codemirror_mode": {
    "name": "ipython",
    "version": 3
   },
   "file_extension": ".py",
   "mimetype": "text/x-python",
   "name": "python",
   "nbconvert_exporter": "python",
   "pygments_lexer": "ipython3",
   "version": "3.7.6"
  }
 },
 "nbformat": 4,
 "nbformat_minor": 4
}
