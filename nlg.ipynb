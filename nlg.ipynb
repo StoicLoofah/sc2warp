{
 "cells": [
  {
   "cell_type": "markdown",
   "metadata": {},
   "source": [
    "# NLG\n",
    "\n",
    "* Guides\n",
    "    * https://ehudreiter.com/2018/01/16/learn-about-nlg/ \n",
    "    * https://en.wikipedia.org/wiki/Natural-language_generation\n",
    "        * Pretty good overview\n",
    "    * https://medium.com/sciforce/a-comprehensive-guide-to-natural-language-generation-dd63a4b6e548 \n",
    "        * 3 Stages of the process\n",
    "            * 1. Document planning: deciding what is to be said and creating an abstract document that outlines the structure of the information to be presented.\n",
    "            * 2. Microplanning: generation of referring expressions, word choice, and aggregation to flesh out the document specifications.\n",
    "            * 3.Realisation: converting the abstract document specifications to a real text, using domain knowledge about syntax, morphology, etc.\n",
    "        * Generative System progression\n",
    "            * Markov Chains\n",
    "            * Recurrent Neural Networks (RNN)\n",
    "            * LSTM\n",
    "            * Transformer\n",
    "                * https://papers.nips.cc/paper/7181-attention-is-all-you-need.pdf - TO READ\n",
    "* Narrative Science\n",
    "    * https://narrativescience.com/ \n",
    "    * https://www.wired.com/2012/04/can-an-algorithm-write-a-better-news-story-than-a-human-reporter/\n",
    "* Stat Sheet/Automated Insights\n",
    "    * https://automatedinsights.com/ \n",
    "    * https://medium.com/@AutomatedInsights/the-ultimate-guide-to-natural-language-generation-bdcb457423d6 \n",
    "        * Basically just a marketing pitch for their product\n",
    "* Let’s Play\n",
    "    * https://venturebeat.com/2019/09/09/ai-generates-lets-play-commentary-from-videos/ \n",
    "    * https://arxiv.org/pdf/1909.02195.pdf \n",
    "* Chess\n",
    "    * https://www.aclweb.org/anthology/P18-1154.pdf \n",
    "        * TO READ\n",
    "* Other Papers\n",
    "    * https://nlp.stanford.edu/pubs/hashimoto2019unifying.pdf \n",
    "        * TO READ\n",
    "    * https://www.jair.org/index.php/jair/article/view/11173/26378 \n",
    "* INLG\n",
    "    * https://www.inlg2019.com/acceptedpaperlist \n",
    "* https://github.com/edobashira/speech-language-processing#readme \n",
    "\n",
    "## Other Applications\n",
    "* Little League Sports\n",
    "* Big-12 College Football games\n",
    "* Recommended restaurants\n",
    "* World of WarCraft sessions\n",
    "* Image Captioning\n",
    "    * Best with LSTM\n"
   ]
  }
 ],
 "metadata": {
  "kernelspec": {
   "display_name": "Python 3",
   "language": "python",
   "name": "python3"
  },
  "language_info": {
   "codemirror_mode": {
    "name": "ipython",
    "version": 3
   },
   "file_extension": ".py",
   "mimetype": "text/x-python",
   "name": "python",
   "nbconvert_exporter": "python",
   "pygments_lexer": "ipython3",
   "version": "3.7.6"
  }
 },
 "nbformat": 4,
 "nbformat_minor": 4
}
